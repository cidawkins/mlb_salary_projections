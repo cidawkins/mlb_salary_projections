{
 "cells": [
  {
   "cell_type": "markdown",
   "metadata": {},
   "source": [
    "# Download Player Pages from Baseball Reference"
   ]
  },
  {
   "cell_type": "markdown",
   "metadata": {},
   "source": [
    "### Import Useful Packages"
   ]
  },
  {
   "cell_type": "code",
   "execution_count": 4,
   "metadata": {
    "collapsed": true
   },
   "outputs": [],
   "source": [
    "import requests\n",
    "import os\n",
    "from bs4 import BeautifulSoup\n",
    "from fake_useragent import UserAgent\n",
    "import pandas as pd\n",
    "import numpy as np\n",
    "import re\n",
    "import time"
   ]
  },
  {
   "cell_type": "markdown",
   "metadata": {},
   "source": [
    "### Establish years from which to download data"
   ]
  },
  {
   "cell_type": "code",
   "execution_count": 5,
   "metadata": {},
   "outputs": [],
   "source": [
    "years = range(1990, 2017)\n",
    "years = list(map(lambda y: str(y),years))"
   ]
  },
  {
   "cell_type": "markdown",
   "metadata": {},
   "source": [
    "### Main Scraping function"
   ]
  },
  {
   "cell_type": "code",
   "execution_count": 6,
   "metadata": {
    "collapsed": true
   },
   "outputs": [],
   "source": [
    "def scrape_year(year):\n",
    "    \n",
    "    # This page contains a link to all batters who played in a given year\n",
    "    url = 'http://www.baseball-reference.com/leagues/MLB/'+year+'-value-batting.shtml'\n",
    "    us = UserAgent()\n",
    "    user_agent = {'User-Agent':us.random}\n",
    "\n",
    "    response = requests.get(url,headers = user_agent)\n",
    "    page = response.text\n",
    "    main_soup = BeautifulSoup(page,\"lxml\")\n",
    "\n",
    "    # Open the sub-page that has the table important table\n",
    "    # (i.e. table with links to player pages)\n",
    "    sub_page = main_soup.find('div',class_ ='placeholder').next_sibling.next_sibling\n",
    "    sub_soup = BeautifulSoup(sub_page, 'lxml')\n",
    "    players_list_table = sub_soup.table\n",
    "\n",
    "    # Get a list of all Players\n",
    "    all_links = players_list_table.find_all('a')\n",
    "    players_links = []\n",
    "\n",
    "    for item in all_links:\n",
    "        if '/players/' in item['href']:\n",
    "            players_links.append(item['href'])\n",
    "\n",
    "\n",
    "    ## Get a list of downloaded players\n",
    "    # That way I don't have to re-download the same file twice\n",
    "    saved_flist = os.listdir('player_pages')\n",
    "\n",
    "    ## Loop through files and download\n",
    "    # Put in delays so that I don't overload website\n",
    "    for ix, pl in enumerate(players_links):\n",
    "        fname = pl.split('/')[-1]\n",
    "\n",
    "        if fname not in saved_flist:\n",
    "            time.sleep(1+np.random.uniform(0,3)) \n",
    "            temp_url = 'http://www.baseball-reference.com'+players_links[ix]\n",
    "            user_agent = {'User-Agent':us.random}\n",
    "            response = requests.get(temp_url,headers = user_agent)\n",
    "            temp_page = response.text\n",
    "\n",
    "            fname = pl.split('/')[-1]\n",
    "\n",
    "            with open(\"player_pages/\"+fname, \"w\") as pfile:\n",
    "                pfile.write(temp_page)\n",
    "                pfile.close()"
   ]
  },
  {
   "cell_type": "markdown",
   "metadata": {},
   "source": [
    "### Download files"
   ]
  },
  {
   "cell_type": "code",
   "execution_count": 8,
   "metadata": {},
   "outputs": [
    {
     "name": "stdout",
     "output_type": "stream",
     "text": [
      "1990\n",
      "1991\n",
      "1992\n",
      "1993\n",
      "1994\n",
      "1995\n",
      "1996\n",
      "1997\n",
      "1998\n",
      "1999\n",
      "2000\n",
      "2001\n",
      "2002\n",
      "2003\n",
      "2004\n",
      "2005\n",
      "2006\n",
      "2007\n",
      "2008\n",
      "2009\n",
      "2010\n",
      "2011\n",
      "2012\n",
      "2013\n",
      "2014\n",
      "2015\n",
      "2016\n"
     ]
    }
   ],
   "source": [
    "for y in years:\n",
    "    print(y)\n",
    "    scrape_year(y)"
   ]
  },
  {
   "cell_type": "code",
   "execution_count": null,
   "metadata": {
    "collapsed": true
   },
   "outputs": [],
   "source": []
  }
 ],
 "metadata": {
  "kernelspec": {
   "display_name": "Python 3",
   "language": "python",
   "name": "python3"
  },
  "language_info": {
   "codemirror_mode": {
    "name": "ipython",
    "version": 3
   },
   "file_extension": ".py",
   "mimetype": "text/x-python",
   "name": "python",
   "nbconvert_exporter": "python",
   "pygments_lexer": "ipython3",
   "version": "3.6.1"
  }
 },
 "nbformat": 4,
 "nbformat_minor": 2
}
